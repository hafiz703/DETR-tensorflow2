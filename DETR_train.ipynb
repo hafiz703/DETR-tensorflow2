{
 "cells": [
  {
   "cell_type": "code",
   "execution_count": 2,
   "metadata": {
    "colab": {},
    "colab_type": "code",
    "id": "R2bACEaZ1rcp"
   },
   "outputs": [],
   "source": [
    "# Test on COCO val data\n",
    "%%capture\n",
    "!unzip /content/drive/My\\ Drive/val2017.zip"
   ]
  },
  {
   "cell_type": "code",
   "execution_count": 4,
   "metadata": {
    "colab": {},
    "colab_type": "code",
    "id": "Wfjl9Uyo1K8o"
   },
   "outputs": [],
   "source": [
    "import tensorflow as tf\n",
    "import tensorflow_addons as tfa \n",
    "import numpy as np \n",
    "from tensorflow.keras.applications.resnet50 import ResNet50\n",
    "from tensorflow.keras.preprocessing import image\n",
    "from tensorflow.keras.applications.resnet50 import preprocess_input, decode_predictions"
   ]
  },
  {
   "cell_type": "code",
   "execution_count": 5,
   "metadata": {
    "colab": {},
    "colab_type": "code",
    "id": "wy1h_bws1X3J"
   },
   "outputs": [],
   "source": [
    "from coco import CocoGenerator\n",
    "from matcher import HungarianMatcher\n",
    "from loss import DETRLosses\n",
    "from model import DETR"
   ]
  },
  {
   "cell_type": "code",
   "execution_count": null,
   "metadata": {
    "colab": {},
    "colab_type": "code",
    "id": "3iBM0GkX1ZEO"
   },
   "outputs": [],
   "source": [
    "BATCH_SIZE = 1\n",
    "train_generator = CocoGenerator(\n",
    "    \"coco\",\n",
    "    'train2017',     \n",
    "    batch_size=BATCH_SIZE,\n",
    ")"
   ]
  },
  {
   "cell_type": "code",
   "execution_count": null,
   "metadata": {
    "colab": {},
    "colab_type": "code",
    "id": "vikZjCAe1aVs"
   },
   "outputs": [],
   "source": [
    "tf.keras.backend.clear_session()\n",
    "epochs = 100 \n",
    "model = DETR(num_classes=91,num_queries=100)  \n",
    "rundetr = DETRLosses(num_classes = model.num_classes-1)\n",
    "optimizer = tfa.optimizers.AdamW(learning_rate=1e-4, weight_decay=1e-4)\n",
    " \n",
    "\n",
    "tf.keras.backend.clear_session()\n",
    "for epoch in range(epochs):\n",
    "    print(\"\\n########################### Start of epoch %d ############################\" % (epoch,))    \n",
    "\n",
    "    # Iterate over the batches of the dataset.\n",
    "    for step, (x_batch_train, y_batch_train) in enumerate(train_generator):\n",
    "        if [len(i[\"bboxes\"]) for i in y_batch_train]==[0]:\n",
    "          continue    \n",
    "        print(\"EPOCH | STEP\",\"------------- {} | {} -------------\".format(epoch,step))\n",
    "        \n",
    "        with tf.GradientTape() as tape:            \n",
    "            print(x_batch_train.shape)\n",
    "            outputs = model(x_batch_train, training=True)  # Outputs for this minibatch\n",
    "            \n",
    "            # Compute the loss value for this minibatch.\n",
    "           \n",
    "            loss_value = rundetr.combined_loss_fn(outputs,y_batch_train)\n",
    "             \n",
    "        # Use the gradient tape to automatically retrieve\n",
    "        # the gradients of the trainable variables with respect to the loss.\n",
    "        grads = tape.gradient(loss_value, model.trainable_variables)\n",
    "        optimizer.apply_gradients(zip(grads, model.trainable_variables))\n",
    " \n",
    "            \n",
    "\n",
    "    #Save after every epoch\n",
    "    # model.save_weights('/content/drive/My Drive/kdetr/keras_detr')\n",
    "\n",
    "      "
   ]
  }
 ],
 "metadata": {
  "colab": {
   "name": "DETR-train.ipynb",
   "provenance": []
  },
  "kernelspec": {
   "display_name": "Python 3",
   "language": "python",
   "name": "python3"
  },
  "language_info": {
   "codemirror_mode": {
    "name": "ipython",
    "version": 3
   },
   "file_extension": ".py",
   "mimetype": "text/x-python",
   "name": "python",
   "nbconvert_exporter": "python",
   "pygments_lexer": "ipython3",
   "version": "3.6.9"
  }
 },
 "nbformat": 4,
 "nbformat_minor": 1
}
